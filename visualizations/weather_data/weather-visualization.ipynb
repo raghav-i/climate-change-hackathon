{
 "cells": [
  {
   "cell_type": "code",
   "execution_count": 71,
   "metadata": {},
   "outputs": [],
   "source": [
    "import pandas as pd"
   ]
  },
  {
   "cell_type": "code",
   "execution_count": 72,
   "metadata": {},
   "outputs": [],
   "source": [
    "df = pd.read_csv('2018_daily_complete_weather_data_0.csv', parse_dates=['odate'])"
   ]
  },
  {
   "cell_type": "code",
   "execution_count": 73,
   "metadata": {},
   "outputs": [
    {
     "data": {
      "text/html": [
       "<div>\n",
       "<style scoped>\n",
       "    .dataframe tbody tr th:only-of-type {\n",
       "        vertical-align: middle;\n",
       "    }\n",
       "\n",
       "    .dataframe tbody tr th {\n",
       "        vertical-align: top;\n",
       "    }\n",
       "\n",
       "    .dataframe thead th {\n",
       "        text-align: right;\n",
       "    }\n",
       "</style>\n",
       "<table border=\"1\" class=\"dataframe\">\n",
       "  <thead>\n",
       "    <tr style=\"text-align: right;\">\n",
       "      <th></th>\n",
       "      <th>row_id</th>\n",
       "      <th>district</th>\n",
       "      <th>mandal</th>\n",
       "      <th>location</th>\n",
       "      <th>odate</th>\n",
       "      <th>cumm_rainfall</th>\n",
       "      <th>temp_min</th>\n",
       "      <th>temp_max</th>\n",
       "      <th>humidity_min</th>\n",
       "      <th>humidity_max</th>\n",
       "      <th>wind_speed_min</th>\n",
       "      <th>wind_speed_max</th>\n",
       "    </tr>\n",
       "  </thead>\n",
       "  <tbody>\n",
       "    <tr>\n",
       "      <th>0</th>\n",
       "      <td>0</td>\n",
       "      <td>Medchal-Malkajgiri</td>\n",
       "      <td>Uppal</td>\n",
       "      <td>Moulali</td>\n",
       "      <td>2018-01-01</td>\n",
       "      <td>0.0</td>\n",
       "      <td>12.1</td>\n",
       "      <td>32.6</td>\n",
       "      <td>23.8</td>\n",
       "      <td>100.0</td>\n",
       "      <td>0.0</td>\n",
       "      <td>6.6</td>\n",
       "    </tr>\n",
       "    <tr>\n",
       "      <th>1</th>\n",
       "      <td>1</td>\n",
       "      <td>Medchal-Malkajgiri</td>\n",
       "      <td>Uppal</td>\n",
       "      <td>Moulali</td>\n",
       "      <td>2018-02-01</td>\n",
       "      <td>0.0</td>\n",
       "      <td>11.6</td>\n",
       "      <td>32.6</td>\n",
       "      <td>23.2</td>\n",
       "      <td>100.0</td>\n",
       "      <td>0.0</td>\n",
       "      <td>4.7</td>\n",
       "    </tr>\n",
       "    <tr>\n",
       "      <th>2</th>\n",
       "      <td>2</td>\n",
       "      <td>Medchal-Malkajgiri</td>\n",
       "      <td>Uppal</td>\n",
       "      <td>Moulali</td>\n",
       "      <td>2018-03-01</td>\n",
       "      <td>0.0</td>\n",
       "      <td>13.0</td>\n",
       "      <td>33.0</td>\n",
       "      <td>31.5</td>\n",
       "      <td>100.0</td>\n",
       "      <td>0.0</td>\n",
       "      <td>6.3</td>\n",
       "    </tr>\n",
       "    <tr>\n",
       "      <th>3</th>\n",
       "      <td>3</td>\n",
       "      <td>Medchal-Malkajgiri</td>\n",
       "      <td>Uppal</td>\n",
       "      <td>Moulali</td>\n",
       "      <td>2018-04-01</td>\n",
       "      <td>0.0</td>\n",
       "      <td>9.7</td>\n",
       "      <td>31.7</td>\n",
       "      <td>27.4</td>\n",
       "      <td>100.0</td>\n",
       "      <td>0.0</td>\n",
       "      <td>5.2</td>\n",
       "    </tr>\n",
       "    <tr>\n",
       "      <th>4</th>\n",
       "      <td>4</td>\n",
       "      <td>Medchal-Malkajgiri</td>\n",
       "      <td>Uppal</td>\n",
       "      <td>Moulali</td>\n",
       "      <td>2018-05-01</td>\n",
       "      <td>0.0</td>\n",
       "      <td>8.8</td>\n",
       "      <td>31.0</td>\n",
       "      <td>28.6</td>\n",
       "      <td>100.0</td>\n",
       "      <td>0.0</td>\n",
       "      <td>7.1</td>\n",
       "    </tr>\n",
       "  </tbody>\n",
       "</table>\n",
       "</div>"
      ],
      "text/plain": [
       "   row_id            district mandal  location      odate  cumm_rainfall  \\\n",
       "0       0  Medchal-Malkajgiri  Uppal  Moulali  2018-01-01            0.0   \n",
       "1       1  Medchal-Malkajgiri  Uppal  Moulali  2018-02-01            0.0   \n",
       "2       2  Medchal-Malkajgiri  Uppal  Moulali  2018-03-01            0.0   \n",
       "3       3  Medchal-Malkajgiri  Uppal  Moulali  2018-04-01            0.0   \n",
       "4       4  Medchal-Malkajgiri  Uppal  Moulali  2018-05-01            0.0   \n",
       "\n",
       "   temp_min  temp_max  humidity_min  humidity_max  wind_speed_min  \\\n",
       "0      12.1      32.6          23.8         100.0             0.0   \n",
       "1      11.6      32.6          23.2         100.0             0.0   \n",
       "2      13.0      33.0          31.5         100.0             0.0   \n",
       "3       9.7      31.7          27.4         100.0             0.0   \n",
       "4       8.8      31.0          28.6         100.0             0.0   \n",
       "\n",
       "   wind_speed_max  \n",
       "0             6.6  \n",
       "1             4.7  \n",
       "2             6.3  \n",
       "3             5.2  \n",
       "4             7.1  "
      ]
     },
     "execution_count": 73,
     "metadata": {},
     "output_type": "execute_result"
    }
   ],
   "source": [
    "df.head()"
   ]
  },
  {
   "cell_type": "code",
   "execution_count": 74,
   "metadata": {},
   "outputs": [],
   "source": [
    "df = df.drop('row_id', axis=1)"
   ]
  },
  {
   "cell_type": "code",
   "execution_count": 75,
   "metadata": {},
   "outputs": [
    {
     "data": {
      "text/html": [
       "<div>\n",
       "<style scoped>\n",
       "    .dataframe tbody tr th:only-of-type {\n",
       "        vertical-align: middle;\n",
       "    }\n",
       "\n",
       "    .dataframe tbody tr th {\n",
       "        vertical-align: top;\n",
       "    }\n",
       "\n",
       "    .dataframe thead th {\n",
       "        text-align: right;\n",
       "    }\n",
       "</style>\n",
       "<table border=\"1\" class=\"dataframe\">\n",
       "  <thead>\n",
       "    <tr style=\"text-align: right;\">\n",
       "      <th></th>\n",
       "      <th>cumm_rainfall</th>\n",
       "      <th>temp_min</th>\n",
       "      <th>temp_max</th>\n",
       "      <th>humidity_min</th>\n",
       "      <th>humidity_max</th>\n",
       "      <th>wind_speed_min</th>\n",
       "      <th>wind_speed_max</th>\n",
       "    </tr>\n",
       "  </thead>\n",
       "  <tbody>\n",
       "    <tr>\n",
       "      <th>count</th>\n",
       "      <td>318132.000000</td>\n",
       "      <td>318128.000000</td>\n",
       "      <td>318128.000000</td>\n",
       "      <td>318090.000000</td>\n",
       "      <td>318087.000000</td>\n",
       "      <td>311197.000000</td>\n",
       "      <td>311197.000000</td>\n",
       "    </tr>\n",
       "    <tr>\n",
       "      <th>mean</th>\n",
       "      <td>1.933995</td>\n",
       "      <td>21.635103</td>\n",
       "      <td>34.134850</td>\n",
       "      <td>41.458775</td>\n",
       "      <td>82.988885</td>\n",
       "      <td>0.287033</td>\n",
       "      <td>9.900205</td>\n",
       "    </tr>\n",
       "    <tr>\n",
       "      <th>std</th>\n",
       "      <td>8.572793</td>\n",
       "      <td>4.497836</td>\n",
       "      <td>4.051318</td>\n",
       "      <td>19.420700</td>\n",
       "      <td>14.686176</td>\n",
       "      <td>1.195849</td>\n",
       "      <td>6.036967</td>\n",
       "    </tr>\n",
       "    <tr>\n",
       "      <th>min</th>\n",
       "      <td>0.000000</td>\n",
       "      <td>2.700000</td>\n",
       "      <td>16.700000</td>\n",
       "      <td>0.100000</td>\n",
       "      <td>4.000000</td>\n",
       "      <td>0.000000</td>\n",
       "      <td>0.000000</td>\n",
       "    </tr>\n",
       "    <tr>\n",
       "      <th>25%</th>\n",
       "      <td>0.000000</td>\n",
       "      <td>18.600000</td>\n",
       "      <td>31.400000</td>\n",
       "      <td>26.200000</td>\n",
       "      <td>73.700000</td>\n",
       "      <td>0.000000</td>\n",
       "      <td>5.900000</td>\n",
       "    </tr>\n",
       "    <tr>\n",
       "      <th>50%</th>\n",
       "      <td>0.000000</td>\n",
       "      <td>22.600000</td>\n",
       "      <td>34.000000</td>\n",
       "      <td>38.500000</td>\n",
       "      <td>85.700000</td>\n",
       "      <td>0.000000</td>\n",
       "      <td>9.200000</td>\n",
       "    </tr>\n",
       "    <tr>\n",
       "      <th>75%</th>\n",
       "      <td>0.000000</td>\n",
       "      <td>24.800000</td>\n",
       "      <td>36.800000</td>\n",
       "      <td>53.800000</td>\n",
       "      <td>96.200000</td>\n",
       "      <td>0.000000</td>\n",
       "      <td>13.300000</td>\n",
       "    </tr>\n",
       "    <tr>\n",
       "      <th>max</th>\n",
       "      <td>303.800000</td>\n",
       "      <td>87.600000</td>\n",
       "      <td>45.400000</td>\n",
       "      <td>99.900000</td>\n",
       "      <td>100.000000</td>\n",
       "      <td>24.700000</td>\n",
       "      <td>69.000000</td>\n",
       "    </tr>\n",
       "  </tbody>\n",
       "</table>\n",
       "</div>"
      ],
      "text/plain": [
       "       cumm_rainfall       temp_min       temp_max   humidity_min  \\\n",
       "count  318132.000000  318128.000000  318128.000000  318090.000000   \n",
       "mean        1.933995      21.635103      34.134850      41.458775   \n",
       "std         8.572793       4.497836       4.051318      19.420700   \n",
       "min         0.000000       2.700000      16.700000       0.100000   \n",
       "25%         0.000000      18.600000      31.400000      26.200000   \n",
       "50%         0.000000      22.600000      34.000000      38.500000   \n",
       "75%         0.000000      24.800000      36.800000      53.800000   \n",
       "max       303.800000      87.600000      45.400000      99.900000   \n",
       "\n",
       "        humidity_max  wind_speed_min  wind_speed_max  \n",
       "count  318087.000000   311197.000000   311197.000000  \n",
       "mean       82.988885        0.287033        9.900205  \n",
       "std        14.686176        1.195849        6.036967  \n",
       "min         4.000000        0.000000        0.000000  \n",
       "25%        73.700000        0.000000        5.900000  \n",
       "50%        85.700000        0.000000        9.200000  \n",
       "75%        96.200000        0.000000       13.300000  \n",
       "max       100.000000       24.700000       69.000000  "
      ]
     },
     "execution_count": 75,
     "metadata": {},
     "output_type": "execute_result"
    }
   ],
   "source": [
    "df.describe()"
   ]
  },
  {
   "cell_type": "code",
   "execution_count": 76,
   "metadata": {},
   "outputs": [
    {
     "data": {
      "text/plain": [
       "31"
      ]
     },
     "execution_count": 76,
     "metadata": {},
     "output_type": "execute_result"
    }
   ],
   "source": [
    "len(df['district'].unique())"
   ]
  },
  {
   "cell_type": "code",
   "execution_count": 77,
   "metadata": {},
   "outputs": [
    {
     "data": {
      "text/plain": [
       "630"
      ]
     },
     "execution_count": 77,
     "metadata": {},
     "output_type": "execute_result"
    }
   ],
   "source": [
    "len(df['mandal'].unique())"
   ]
  },
  {
   "cell_type": "code",
   "execution_count": 78,
   "metadata": {},
   "outputs": [
    {
     "data": {
      "text/plain": [
       "1637"
      ]
     },
     "execution_count": 78,
     "metadata": {},
     "output_type": "execute_result"
    }
   ],
   "source": [
    "len(df['location'].unique())"
   ]
  },
  {
   "cell_type": "code",
   "execution_count": 79,
   "metadata": {},
   "outputs": [],
   "source": [
    "df['address'] = df.district.str.cat(df.mandal, sep=', ').str.cat(df.location, sep=', ')"
   ]
  },
  {
   "cell_type": "code",
   "execution_count": 80,
   "metadata": {},
   "outputs": [
    {
     "data": {
      "text/html": [
       "<div>\n",
       "<style scoped>\n",
       "    .dataframe tbody tr th:only-of-type {\n",
       "        vertical-align: middle;\n",
       "    }\n",
       "\n",
       "    .dataframe tbody tr th {\n",
       "        vertical-align: top;\n",
       "    }\n",
       "\n",
       "    .dataframe thead th {\n",
       "        text-align: right;\n",
       "    }\n",
       "</style>\n",
       "<table border=\"1\" class=\"dataframe\">\n",
       "  <thead>\n",
       "    <tr style=\"text-align: right;\">\n",
       "      <th></th>\n",
       "      <th>district</th>\n",
       "      <th>mandal</th>\n",
       "      <th>location</th>\n",
       "      <th>odate</th>\n",
       "      <th>cumm_rainfall</th>\n",
       "      <th>temp_min</th>\n",
       "      <th>temp_max</th>\n",
       "      <th>humidity_min</th>\n",
       "      <th>humidity_max</th>\n",
       "      <th>wind_speed_min</th>\n",
       "      <th>wind_speed_max</th>\n",
       "      <th>address</th>\n",
       "    </tr>\n",
       "  </thead>\n",
       "  <tbody>\n",
       "    <tr>\n",
       "      <th>0</th>\n",
       "      <td>Medchal-Malkajgiri</td>\n",
       "      <td>Uppal</td>\n",
       "      <td>Moulali</td>\n",
       "      <td>2018-01-01</td>\n",
       "      <td>0.0</td>\n",
       "      <td>12.1</td>\n",
       "      <td>32.6</td>\n",
       "      <td>23.8</td>\n",
       "      <td>100.0</td>\n",
       "      <td>0.0</td>\n",
       "      <td>6.6</td>\n",
       "      <td>Medchal-Malkajgiri, Uppal, Moulali</td>\n",
       "    </tr>\n",
       "    <tr>\n",
       "      <th>1</th>\n",
       "      <td>Medchal-Malkajgiri</td>\n",
       "      <td>Uppal</td>\n",
       "      <td>Moulali</td>\n",
       "      <td>2018-02-01</td>\n",
       "      <td>0.0</td>\n",
       "      <td>11.6</td>\n",
       "      <td>32.6</td>\n",
       "      <td>23.2</td>\n",
       "      <td>100.0</td>\n",
       "      <td>0.0</td>\n",
       "      <td>4.7</td>\n",
       "      <td>Medchal-Malkajgiri, Uppal, Moulali</td>\n",
       "    </tr>\n",
       "    <tr>\n",
       "      <th>2</th>\n",
       "      <td>Medchal-Malkajgiri</td>\n",
       "      <td>Uppal</td>\n",
       "      <td>Moulali</td>\n",
       "      <td>2018-03-01</td>\n",
       "      <td>0.0</td>\n",
       "      <td>13.0</td>\n",
       "      <td>33.0</td>\n",
       "      <td>31.5</td>\n",
       "      <td>100.0</td>\n",
       "      <td>0.0</td>\n",
       "      <td>6.3</td>\n",
       "      <td>Medchal-Malkajgiri, Uppal, Moulali</td>\n",
       "    </tr>\n",
       "    <tr>\n",
       "      <th>3</th>\n",
       "      <td>Medchal-Malkajgiri</td>\n",
       "      <td>Uppal</td>\n",
       "      <td>Moulali</td>\n",
       "      <td>2018-04-01</td>\n",
       "      <td>0.0</td>\n",
       "      <td>9.7</td>\n",
       "      <td>31.7</td>\n",
       "      <td>27.4</td>\n",
       "      <td>100.0</td>\n",
       "      <td>0.0</td>\n",
       "      <td>5.2</td>\n",
       "      <td>Medchal-Malkajgiri, Uppal, Moulali</td>\n",
       "    </tr>\n",
       "    <tr>\n",
       "      <th>4</th>\n",
       "      <td>Medchal-Malkajgiri</td>\n",
       "      <td>Uppal</td>\n",
       "      <td>Moulali</td>\n",
       "      <td>2018-05-01</td>\n",
       "      <td>0.0</td>\n",
       "      <td>8.8</td>\n",
       "      <td>31.0</td>\n",
       "      <td>28.6</td>\n",
       "      <td>100.0</td>\n",
       "      <td>0.0</td>\n",
       "      <td>7.1</td>\n",
       "      <td>Medchal-Malkajgiri, Uppal, Moulali</td>\n",
       "    </tr>\n",
       "  </tbody>\n",
       "</table>\n",
       "</div>"
      ],
      "text/plain": [
       "             district mandal  location      odate  cumm_rainfall  temp_min  \\\n",
       "0  Medchal-Malkajgiri  Uppal  Moulali  2018-01-01            0.0      12.1   \n",
       "1  Medchal-Malkajgiri  Uppal  Moulali  2018-02-01            0.0      11.6   \n",
       "2  Medchal-Malkajgiri  Uppal  Moulali  2018-03-01            0.0      13.0   \n",
       "3  Medchal-Malkajgiri  Uppal  Moulali  2018-04-01            0.0       9.7   \n",
       "4  Medchal-Malkajgiri  Uppal  Moulali  2018-05-01            0.0       8.8   \n",
       "\n",
       "   temp_max  humidity_min  humidity_max  wind_speed_min  wind_speed_max  \\\n",
       "0      32.6          23.8         100.0             0.0             6.6   \n",
       "1      32.6          23.2         100.0             0.0             4.7   \n",
       "2      33.0          31.5         100.0             0.0             6.3   \n",
       "3      31.7          27.4         100.0             0.0             5.2   \n",
       "4      31.0          28.6         100.0             0.0             7.1   \n",
       "\n",
       "                               address  \n",
       "0  Medchal-Malkajgiri, Uppal, Moulali   \n",
       "1  Medchal-Malkajgiri, Uppal, Moulali   \n",
       "2  Medchal-Malkajgiri, Uppal, Moulali   \n",
       "3  Medchal-Malkajgiri, Uppal, Moulali   \n",
       "4  Medchal-Malkajgiri, Uppal, Moulali   "
      ]
     },
     "execution_count": 80,
     "metadata": {},
     "output_type": "execute_result"
    }
   ],
   "source": [
    "df.head()"
   ]
  },
  {
   "cell_type": "code",
   "execution_count": 81,
   "metadata": {},
   "outputs": [],
   "source": [
    "unique_addresses = df['address'].unique()\n",
    "\n",
    "dataframe_list = []\n",
    "for address in unique_addresses:\n",
    "    dataframe_list.append(df[df['address'] == address])"
   ]
  },
  {
   "cell_type": "code",
   "execution_count": 52,
   "metadata": {},
   "outputs": [],
   "source": [
    "import seaborn as sns\n",
    "import matplotlib.pyplot as plt"
   ]
  },
  {
   "cell_type": "code",
   "execution_count": 63,
   "metadata": {},
   "outputs": [],
   "source": [
    "def plot_temp_max(index):\n",
    "    plt.figure(figsize=(18,10))\n",
    "    sns.set(rc={'axes.facecolor':'#eaeaf2','figure.facecolor':'#eaeaf2'})\n",
    "    sns.lineplot(x=dataframe_list[index]['odate'], y=dataframe_list[index]['temp_max'], label='temp_max').set_title(dataframe_list[index]['address'].iloc[0])"
   ]
  },
  {
   "cell_type": "code",
   "execution_count": 83,
   "metadata": {},
   "outputs": [
    {
     "data": {
      "text/plain": [
       "Index(['district', 'mandal', 'location', 'odate', 'cumm_rainfall', 'temp_min',\n",
       "       'temp_max', 'humidity_min', 'humidity_max', 'wind_speed_min',\n",
       "       'wind_speed_max', 'address'],\n",
       "      dtype='object')"
      ]
     },
     "execution_count": 83,
     "metadata": {},
     "output_type": "execute_result"
    }
   ],
   "source": [
    "sample_df = dataframe_list[199]\n",
    "sample_df.columns"
   ]
  },
  {
   "cell_type": "markdown",
   "metadata": {},
   "source": [
    "### Timeseries graphs for Temperature, Humidity and Wind Speed"
   ]
  },
  {
   "cell_type": "code",
   "execution_count": 91,
   "metadata": {},
   "outputs": [
    {
     "data": {
      "text/html": [
       "<div>\n",
       "<style scoped>\n",
       "    .dataframe tbody tr th:only-of-type {\n",
       "        vertical-align: middle;\n",
       "    }\n",
       "\n",
       "    .dataframe tbody tr th {\n",
       "        vertical-align: top;\n",
       "    }\n",
       "\n",
       "    .dataframe thead th {\n",
       "        text-align: right;\n",
       "    }\n",
       "</style>\n",
       "<table border=\"1\" class=\"dataframe\">\n",
       "  <thead>\n",
       "    <tr style=\"text-align: right;\">\n",
       "      <th></th>\n",
       "      <th>district</th>\n",
       "      <th>mandal</th>\n",
       "      <th>location</th>\n",
       "      <th>odate</th>\n",
       "      <th>cumm_rainfall</th>\n",
       "      <th>temp_min</th>\n",
       "      <th>temp_max</th>\n",
       "      <th>humidity_min</th>\n",
       "      <th>humidity_max</th>\n",
       "      <th>wind_speed_min</th>\n",
       "      <th>wind_speed_max</th>\n",
       "      <th>address</th>\n",
       "    </tr>\n",
       "  </thead>\n",
       "  <tbody>\n",
       "    <tr>\n",
       "      <th>54725</th>\n",
       "      <td>Mancherial</td>\n",
       "      <td>Kasipet</td>\n",
       "      <td>Kondapur</td>\n",
       "      <td>2018-01-01</td>\n",
       "      <td>0.0</td>\n",
       "      <td>12.2</td>\n",
       "      <td>34.9</td>\n",
       "      <td>21.4</td>\n",
       "      <td>84.9</td>\n",
       "      <td>0.0</td>\n",
       "      <td>6.1</td>\n",
       "      <td>Mancherial, Kasipet, Kondapur</td>\n",
       "    </tr>\n",
       "    <tr>\n",
       "      <th>54726</th>\n",
       "      <td>Mancherial</td>\n",
       "      <td>Kasipet</td>\n",
       "      <td>Kondapur</td>\n",
       "      <td>2018-02-01</td>\n",
       "      <td>0.0</td>\n",
       "      <td>12.4</td>\n",
       "      <td>34.3</td>\n",
       "      <td>23.4</td>\n",
       "      <td>83.6</td>\n",
       "      <td>0.0</td>\n",
       "      <td>6.5</td>\n",
       "      <td>Mancherial, Kasipet, Kondapur</td>\n",
       "    </tr>\n",
       "  </tbody>\n",
       "</table>\n",
       "</div>"
      ],
      "text/plain": [
       "         district   mandal   location      odate  cumm_rainfall  temp_min  \\\n",
       "54725  Mancherial  Kasipet  Kondapur  2018-01-01            0.0      12.2   \n",
       "54726  Mancherial  Kasipet  Kondapur  2018-02-01            0.0      12.4   \n",
       "\n",
       "       temp_max  humidity_min  humidity_max  wind_speed_min  wind_speed_max  \\\n",
       "54725      34.9          21.4          84.9             0.0             6.1   \n",
       "54726      34.3          23.4          83.6             0.0             6.5   \n",
       "\n",
       "                              address  \n",
       "54725  Mancherial, Kasipet, Kondapur   \n",
       "54726  Mancherial, Kasipet, Kondapur   "
      ]
     },
     "execution_count": 91,
     "metadata": {},
     "output_type": "execute_result"
    }
   ],
   "source": [
    "sample_df.head(2)"
   ]
  },
  {
   "cell_type": "code",
   "execution_count": 102,
   "metadata": {},
   "outputs": [
    {
     "data": {
      "text/plain": [
       "<AxesSubplot: xlabel='odate', ylabel='temp_max'>"
      ]
     },
     "execution_count": 102,
     "metadata": {},
     "output_type": "execute_result"
    },
    {
     "data": {
      "image/png": "[encoded data removed]",
      "text/plain": [
       "<Figure size 640x480 with 1 Axes>"
      ]
     },
     "metadata": {},
     "output_type": "display_data"
    }
   ],
   "source": [
    "sns.lineplot(data = sample_df, \n",
    "            x = 'odate', \n",
    "            y = 'temp_max',)\n",
    "\n",
    "sns.lineplot(data = sample_df,\n",
    "            x = 'odate',\n",
    "            y = 'temp_min',)\n"
   ]
  },
  {
   "cell_type": "code",
   "execution_count": 103,
   "metadata": {},
   "outputs": [
    {
     "name": "stderr",
     "output_type": "stream",
     "text": [
      "/tmp/ipykernel_342335/4097480355.py:1: SettingWithCopyWarning: \n",
      "A value is trying to be set on a copy of a slice from a DataFrame.\n",
      "Try using .loc[row_indexer,col_indexer] = value instead\n",
      "\n",
      "See the caveats in the documentation: https://pandas.pydata.org/pandas-docs/stable/user_guide/indexing.html#returning-a-view-versus-a-copy\n",
      "  sample_df['temp_avg'] = (sample_df['temp_max'] + sample_df['temp_min'])/2\n"
     ]
    }
   ],
   "source": [
    "sample_df['temp_avg'] = (sample_df['temp_max'] + sample_df['temp_min'])/2"
   ]
  },
  {
   "cell_type": "code",
   "execution_count": 107,
   "metadata": {},
   "outputs": [
    {
     "ename": "TypeError",
     "evalue": "lineplot() takes from 0 to 1 positional arguments but 4 were given",
     "output_type": "error",
     "traceback": [
      "\u001b[0;31m---------------------------------------------------------------------------\u001b[0m",
      "\u001b[0;31mTypeError\u001b[0m                                 Traceback (most recent call last)",
      "Cell \u001b[0;32mIn [107], line 1\u001b[0m\n\u001b[0;32m----> 1\u001b[0m \u001b[43msns\u001b[49m\u001b[38;5;241;43m.\u001b[39;49m\u001b[43mlineplot\u001b[49m\u001b[43m(\u001b[49m\u001b[43msample_df\u001b[49m\u001b[43m[\u001b[49m\u001b[38;5;124;43m'\u001b[39;49m\u001b[38;5;124;43modate\u001b[39;49m\u001b[38;5;124;43m'\u001b[39;49m\u001b[43m]\u001b[49m\u001b[43m,\u001b[49m\u001b[43m \u001b[49m\u001b[43msample_df\u001b[49m\u001b[43m[\u001b[49m\u001b[38;5;124;43m'\u001b[39;49m\u001b[38;5;124;43mtemp_avg\u001b[39;49m\u001b[38;5;124;43m'\u001b[39;49m\u001b[43m]\u001b[49m\u001b[43m,\u001b[49m\u001b[43m \u001b[49m\u001b[43msample_df\u001b[49m\u001b[43m[\u001b[49m\u001b[38;5;124;43m'\u001b[39;49m\u001b[38;5;124;43mtemp_max\u001b[39;49m\u001b[38;5;124;43m'\u001b[39;49m\u001b[43m]\u001b[49m\u001b[43m,\u001b[49m\u001b[43m \u001b[49m\u001b[43msample_df\u001b[49m\u001b[43m[\u001b[49m\u001b[38;5;124;43m'\u001b[39;49m\u001b[38;5;124;43mtemp_min\u001b[39;49m\u001b[38;5;124;43m'\u001b[39;49m\u001b[43m]\u001b[49m\u001b[43m)\u001b[49m\n",
      "\u001b[0;31mTypeError\u001b[0m: lineplot() takes from 0 to 1 positional arguments but 4 were given"
     ]
    }
   ],
   "source": [
    "sns.lineplot(sample_df['odate'], sample_df['temp_avg'])"
   ]
  }
 ],
 "metadata": {
  "kernelspec": {
   "display_name": "Python 3.10.8 64-bit",
   "language": "python",
   "name": "python3"
  },
  "language_info": {
   "codemirror_mode": {
    "name": "ipython",
    "version": 3
   },
   "file_extension": ".py",
   "mimetype": "text/x-python",
   "name": "python",
   "nbconvert_exporter": "python",
   "pygments_lexer": "ipython3",
   "version": "3.10.8"
  },
  "orig_nbformat": 4,
  "vscode": {
   "interpreter": {
    "hash": "e7370f93d1d0cde622a1f8e1c04877d8463912d04d973331ad4851f04de6915a"
   }
  }
 },
 "nbformat": 4,
 "nbformat_minor": 2
}
